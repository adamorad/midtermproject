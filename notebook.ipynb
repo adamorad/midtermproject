{
 "cells": [
  {
   "cell_type": "markdown",
   "id": "3ed05e3a",
   "metadata": {},
   "source": [
    "## Imports"
   ]
  },
  {
   "cell_type": "code",
   "execution_count": 1,
   "id": "8c734ff6",
   "metadata": {},
   "outputs": [],
   "source": [
    "import pandas as pd\n",
    "import seaborn as sns\n",
    "import numpy as np\n",
    "import sklearn\n",
    "\n",
    "import matplotlib.pyplot as plt\n",
    "import matplotlib as mpl\n",
    "mpl.rcParams['figure.figsize']=(20,10)\n",
    "%matplotlib inline\n",
    "\n",
    "from sklearn.model_selection import train_test_split\n",
    "from sklearn.ensemble import RandomForestClassifier\n",
    "from sklearn.preprocessing import scale\n",
    "from sklearn import metrics\n",
    "from sklearn.feature_extraction import DictVectorizer\n",
    "from sklearn.metrics import roc_auc_score\n",
    "from sklearn.tree import export_text\n",
    "\n",
    "import warnings\n",
    "warnings.filterwarnings('ignore')"
   ]
  },
  {
   "cell_type": "markdown",
   "id": "2bfac9bd",
   "metadata": {},
   "source": [
    "## Get the Data"
   ]
  },
  {
   "cell_type": "code",
   "execution_count": 2,
   "id": "8f5d0ec9",
   "metadata": {},
   "outputs": [],
   "source": [
    "raw_df = pd.read_csv(\"all_songs.csv\")"
   ]
  },
  {
   "cell_type": "code",
   "execution_count": 3,
   "id": "6a48a3b0",
   "metadata": {},
   "outputs": [
    {
     "name": "stdout",
     "output_type": "stream",
     "text": [
      "<class 'pandas.core.frame.DataFrame'>\n",
      "RangeIndex: 17790 entries, 0 to 17789\n",
      "Data columns (total 20 columns):\n",
      " #   Column            Non-Null Count  Dtype  \n",
      "---  ------            --------------  -----  \n",
      " 0   track             17790 non-null  object \n",
      " 1   artist            17790 non-null  object \n",
      " 2   uri               17790 non-null  object \n",
      " 3   danceability      17790 non-null  float64\n",
      " 4   energy            17790 non-null  float64\n",
      " 5   key               17790 non-null  int64  \n",
      " 6   loudness          17790 non-null  float64\n",
      " 7   mode              17790 non-null  int64  \n",
      " 8   speechiness       17790 non-null  float64\n",
      " 9   acousticness      17790 non-null  float64\n",
      " 10  instrumentalness  17790 non-null  float64\n",
      " 11  liveness          17790 non-null  float64\n",
      " 12  valence           17790 non-null  float64\n",
      " 13  tempo             17790 non-null  float64\n",
      " 14  duration_ms       17790 non-null  int64  \n",
      " 15  time_signature    17790 non-null  int64  \n",
      " 16  chorus_hit        17790 non-null  float64\n",
      " 17  sections          17790 non-null  int64  \n",
      " 18  target            17790 non-null  int64  \n",
      " 19  decade            17790 non-null  int64  \n",
      "dtypes: float64(10), int64(7), object(3)\n",
      "memory usage: 2.7+ MB\n"
     ]
    }
   ],
   "source": [
    "raw_df.info()"
   ]
  },
  {
   "cell_type": "code",
   "execution_count": 4,
   "id": "8e6d5682",
   "metadata": {},
   "outputs": [
    {
     "data": {
      "text/html": [
       "<div>\n",
       "<style scoped>\n",
       "    .dataframe tbody tr th:only-of-type {\n",
       "        vertical-align: middle;\n",
       "    }\n",
       "\n",
       "    .dataframe tbody tr th {\n",
       "        vertical-align: top;\n",
       "    }\n",
       "\n",
       "    .dataframe thead th {\n",
       "        text-align: right;\n",
       "    }\n",
       "</style>\n",
       "<table border=\"1\" class=\"dataframe\">\n",
       "  <thead>\n",
       "    <tr style=\"text-align: right;\">\n",
       "      <th></th>\n",
       "      <th>track</th>\n",
       "      <th>artist</th>\n",
       "      <th>uri</th>\n",
       "      <th>danceability</th>\n",
       "      <th>energy</th>\n",
       "      <th>key</th>\n",
       "      <th>loudness</th>\n",
       "      <th>mode</th>\n",
       "      <th>speechiness</th>\n",
       "      <th>acousticness</th>\n",
       "      <th>instrumentalness</th>\n",
       "      <th>liveness</th>\n",
       "      <th>valence</th>\n",
       "      <th>tempo</th>\n",
       "      <th>duration_ms</th>\n",
       "      <th>time_signature</th>\n",
       "      <th>chorus_hit</th>\n",
       "      <th>sections</th>\n",
       "      <th>target</th>\n",
       "      <th>decade</th>\n",
       "    </tr>\n",
       "  </thead>\n",
       "  <tbody>\n",
       "    <tr>\n",
       "      <th>0</th>\n",
       "      <td>Misty Roses</td>\n",
       "      <td>Astrud Gilberto</td>\n",
       "      <td>spotify:track:50RBM1j1Dw7WYmsGsWg9Tm</td>\n",
       "      <td>0.527</td>\n",
       "      <td>0.316</td>\n",
       "      <td>1</td>\n",
       "      <td>-15.769</td>\n",
       "      <td>1</td>\n",
       "      <td>0.0310</td>\n",
       "      <td>0.693000</td>\n",
       "      <td>0.00699</td>\n",
       "      <td>0.1680</td>\n",
       "      <td>0.543</td>\n",
       "      <td>116.211</td>\n",
       "      <td>158840</td>\n",
       "      <td>4</td>\n",
       "      <td>53.89523</td>\n",
       "      <td>6</td>\n",
       "      <td>0</td>\n",
       "      <td>1990</td>\n",
       "    </tr>\n",
       "    <tr>\n",
       "      <th>1</th>\n",
       "      <td>Never Ever</td>\n",
       "      <td>All Saints</td>\n",
       "      <td>spotify:track:5FTz9qQ94PyUHETyAyfYZN</td>\n",
       "      <td>0.738</td>\n",
       "      <td>0.541</td>\n",
       "      <td>1</td>\n",
       "      <td>-5.485</td>\n",
       "      <td>1</td>\n",
       "      <td>0.0311</td>\n",
       "      <td>0.559000</td>\n",
       "      <td>0.00000</td>\n",
       "      <td>0.0492</td>\n",
       "      <td>0.309</td>\n",
       "      <td>134.187</td>\n",
       "      <td>387573</td>\n",
       "      <td>4</td>\n",
       "      <td>32.16853</td>\n",
       "      <td>16</td>\n",
       "      <td>1</td>\n",
       "      <td>1990</td>\n",
       "    </tr>\n",
       "    <tr>\n",
       "      <th>2</th>\n",
       "      <td>Soul Sermon</td>\n",
       "      <td>Gregg Karukas</td>\n",
       "      <td>spotify:track:6m24oe3lk1UMxq9zq4iPFi</td>\n",
       "      <td>0.736</td>\n",
       "      <td>0.419</td>\n",
       "      <td>0</td>\n",
       "      <td>-10.662</td>\n",
       "      <td>1</td>\n",
       "      <td>0.0300</td>\n",
       "      <td>0.693000</td>\n",
       "      <td>0.49500</td>\n",
       "      <td>0.0809</td>\n",
       "      <td>0.265</td>\n",
       "      <td>93.982</td>\n",
       "      <td>237267</td>\n",
       "      <td>4</td>\n",
       "      <td>42.05369</td>\n",
       "      <td>9</td>\n",
       "      <td>0</td>\n",
       "      <td>1990</td>\n",
       "    </tr>\n",
       "    <tr>\n",
       "      <th>3</th>\n",
       "      <td>Clarinet Marmalade - Live</td>\n",
       "      <td>Alton Purnell</td>\n",
       "      <td>spotify:track:5FOXuiLI6knVtgMUjWKj6x</td>\n",
       "      <td>0.565</td>\n",
       "      <td>0.594</td>\n",
       "      <td>5</td>\n",
       "      <td>-13.086</td>\n",
       "      <td>1</td>\n",
       "      <td>0.0646</td>\n",
       "      <td>0.655000</td>\n",
       "      <td>0.92600</td>\n",
       "      <td>0.6750</td>\n",
       "      <td>0.763</td>\n",
       "      <td>114.219</td>\n",
       "      <td>375933</td>\n",
       "      <td>4</td>\n",
       "      <td>80.99693</td>\n",
       "      <td>10</td>\n",
       "      <td>0</td>\n",
       "      <td>1990</td>\n",
       "    </tr>\n",
       "    <tr>\n",
       "      <th>4</th>\n",
       "      <td>До смерті і довше - Drum &amp; Base and Rock Remix</td>\n",
       "      <td>Skryabin</td>\n",
       "      <td>spotify:track:6CxyIPTqSPvAPXfrIZczs4</td>\n",
       "      <td>0.513</td>\n",
       "      <td>0.760</td>\n",
       "      <td>4</td>\n",
       "      <td>-10.077</td>\n",
       "      <td>1</td>\n",
       "      <td>0.0355</td>\n",
       "      <td>0.000017</td>\n",
       "      <td>0.00339</td>\n",
       "      <td>0.1530</td>\n",
       "      <td>0.961</td>\n",
       "      <td>153.166</td>\n",
       "      <td>430653</td>\n",
       "      <td>4</td>\n",
       "      <td>25.57331</td>\n",
       "      <td>20</td>\n",
       "      <td>0</td>\n",
       "      <td>1990</td>\n",
       "    </tr>\n",
       "  </tbody>\n",
       "</table>\n",
       "</div>"
      ],
      "text/plain": [
       "                                            track           artist  \\\n",
       "0                                     Misty Roses  Astrud Gilberto   \n",
       "1                                      Never Ever       All Saints   \n",
       "2                                     Soul Sermon    Gregg Karukas   \n",
       "3                       Clarinet Marmalade - Live    Alton Purnell   \n",
       "4  До смерті і довше - Drum & Base and Rock Remix         Skryabin   \n",
       "\n",
       "                                    uri  danceability  energy  key  loudness  \\\n",
       "0  spotify:track:50RBM1j1Dw7WYmsGsWg9Tm         0.527   0.316    1   -15.769   \n",
       "1  spotify:track:5FTz9qQ94PyUHETyAyfYZN         0.738   0.541    1    -5.485   \n",
       "2  spotify:track:6m24oe3lk1UMxq9zq4iPFi         0.736   0.419    0   -10.662   \n",
       "3  spotify:track:5FOXuiLI6knVtgMUjWKj6x         0.565   0.594    5   -13.086   \n",
       "4  spotify:track:6CxyIPTqSPvAPXfrIZczs4         0.513   0.760    4   -10.077   \n",
       "\n",
       "   mode  speechiness  acousticness  instrumentalness  liveness  valence  \\\n",
       "0     1       0.0310      0.693000           0.00699    0.1680    0.543   \n",
       "1     1       0.0311      0.559000           0.00000    0.0492    0.309   \n",
       "2     1       0.0300      0.693000           0.49500    0.0809    0.265   \n",
       "3     1       0.0646      0.655000           0.92600    0.6750    0.763   \n",
       "4     1       0.0355      0.000017           0.00339    0.1530    0.961   \n",
       "\n",
       "     tempo  duration_ms  time_signature  chorus_hit  sections  target  decade  \n",
       "0  116.211       158840               4    53.89523         6       0    1990  \n",
       "1  134.187       387573               4    32.16853        16       1    1990  \n",
       "2   93.982       237267               4    42.05369         9       0    1990  \n",
       "3  114.219       375933               4    80.99693        10       0    1990  \n",
       "4  153.166       430653               4    25.57331        20       0    1990  "
      ]
     },
     "execution_count": 4,
     "metadata": {},
     "output_type": "execute_result"
    }
   ],
   "source": [
    "raw_df.head()"
   ]
  },
  {
   "cell_type": "code",
   "execution_count": 5,
   "id": "c9332d67",
   "metadata": {},
   "outputs": [
    {
     "data": {
      "text/plain": [
       "0    8895\n",
       "1    8895\n",
       "Name: target, dtype: int64"
      ]
     },
     "execution_count": 5,
     "metadata": {},
     "output_type": "execute_result"
    }
   ],
   "source": [
    "raw_df['target'].value_counts()"
   ]
  },
  {
   "cell_type": "code",
   "execution_count": 6,
   "id": "3df8e7f1",
   "metadata": {},
   "outputs": [
    {
     "data": {
      "text/plain": [
       "artist\n",
       "Glee Cast        52\n",
       "Taylor Swift     52\n",
       "Drake            51\n",
       "Tim McGraw       45\n",
       "Kenny Chesney    43\n",
       "Toby Keith       35\n",
       "Keith Urban      35\n",
       "Madonna          34\n",
       "Brad Paisley     34\n",
       "George Strait    34\n",
       "Name: track, dtype: int64"
      ]
     },
     "execution_count": 6,
     "metadata": {},
     "output_type": "execute_result"
    }
   ],
   "source": [
    "raw_df.loc[raw_df['target'] == 1].groupby(['artist'])['track'].count().sort_values(ascending=False).head(10)"
   ]
  },
  {
   "cell_type": "code",
   "execution_count": 7,
   "id": "783f4181",
   "metadata": {},
   "outputs": [
    {
     "data": {
      "text/plain": [
       "2010    6398\n",
       "2000    5872\n",
       "1990    5520\n",
       "Name: decade, dtype: int64"
      ]
     },
     "execution_count": 7,
     "metadata": {},
     "output_type": "execute_result"
    }
   ],
   "source": [
    "raw_df['decade'].value_counts()"
   ]
  },
  {
   "cell_type": "code",
   "execution_count": 82,
   "id": "88a82b27",
   "metadata": {},
   "outputs": [],
   "source": [
    "feature_columns = ['danceability', 'energy', 'key', 'loudness','mode', 'speechiness', 'acousticness', \n",
    "                       'instrumentalness', 'liveness','valence', 'loudness','tempo', 'duration_ms',\n",
    "                   'time_signature', 'chorus_hit','sections']"
   ]
  },
  {
   "cell_type": "code",
   "execution_count": 9,
   "id": "48f4b8e5",
   "metadata": {},
   "outputs": [
    {
     "name": "stdout",
     "output_type": "stream",
     "text": [
      "danceability\n"
     ]
    },
    {
     "data": {
      "image/png": "[encoded data removed]",
      "text/plain": [
       "<Figure size 432x288 with 1 Axes>"
      ]
     },
     "metadata": {
      "needs_background": "light"
     },
     "output_type": "display_data"
    },
    {
     "name": "stdout",
     "output_type": "stream",
     "text": [
      "energy\n"
     ]
    },
    {
     "data": {
      "image/png": "[encoded data removed]",
      "text/plain": [
       "<Figure size 432x288 with 1 Axes>"
      ]
     },
     "metadata": {
      "needs_background": "light"
     },
     "output_type": "display_data"
    },
    {
     "name": "stdout",
     "output_type": "stream",
     "text": [
      "key\n"
     ]
    },
    {
     "data": {
      "image/png": "[encoded data removed]",
      "text/plain": [
       "<Figure size 432x288 with 1 Axes>"
      ]
     },
     "metadata": {
      "needs_background": "light"
     },
     "output_type": "display_data"
    },
    {
     "name": "stdout",
     "output_type": "stream",
     "text": [
      "loudness\n"
     ]
    },
    {
     "data": {
      "image/png": "[encoded data removed]",
      "text/plain": [
       "<Figure size 432x288 with 1 Axes>"
      ]
     },
     "metadata": {
      "needs_background": "light"
     },
     "output_type": "display_data"
    },
    {
     "name": "stdout",
     "output_type": "stream",
     "text": [
      "mode\n"
     ]
    },
    {
     "data": {
      "image/png": "[encoded data removed]",
      "text/plain": [
       "<Figure size 432x288 with 1 Axes>"
      ]
     },
     "metadata": {
      "needs_background": "light"
     },
     "output_type": "display_data"
    },
    {
     "name": "stdout",
     "output_type": "stream",
     "text": [
      "speechiness\n"
     ]
    },
    {
     "data": {
      "image/png": "[encoded data removed]",
      "text/plain": [
       "<Figure size 432x288 with 1 Axes>"
      ]
     },
     "metadata": {
      "needs_background": "light"
     },
     "output_type": "display_data"
    },
    {
     "name": "stdout",
     "output_type": "stream",
     "text": [
      "acousticness\n"
     ]
    },
    {
     "data": {
      "image/png": "[encoded data removed]",
      "text/plain": [
       "<Figure size 432x288 with 1 Axes>"
      ]
     },
     "metadata": {
      "needs_background": "light"
     },
     "output_type": "display_data"
    },
    {
     "name": "stdout",
     "output_type": "stream",
     "text": [
      "instrumentalness\n"
     ]
    },
    {
     "data": {
      "image/png": "[encoded data removed]",
      "text/plain": [
       "<Figure size 432x288 with 1 Axes>"
      ]
     },
     "metadata": {
      "needs_background": "light"
     },
     "output_type": "display_data"
    },
    {
     "name": "stdout",
     "output_type": "stream",
     "text": [
      "liveness\n"
     ]
    },
    {
     "data": {
      "image/png": "[encoded data removed]",
      "text/plain": [
       "<Figure size 432x288 with 1 Axes>"
      ]
     },
     "metadata": {
      "needs_background": "light"
     },
     "output_type": "display_data"
    },
    {
     "name": "stdout",
     "output_type": "stream",
     "text": [
      "valence\n"
     ]
    },
    {
     "data": {
      "image/png": "[encoded data removed]",
      "text/plain": [
       "<Figure size 432x288 with 1 Axes>"
      ]
     },
     "metadata": {
      "needs_background": "light"
     },
     "output_type": "display_data"
    },
    {
     "name": "stdout",
     "output_type": "stream",
     "text": [
      "loudness\n"
     ]
    },
    {
     "data": {
      "image/png": "[encoded data removed]",
      "text/plain": [
       "<Figure size 432x288 with 1 Axes>"
      ]
     },
     "metadata": {
      "needs_background": "light"
     },
     "output_type": "display_data"
    },
    {
     "name": "stdout",
     "output_type": "stream",
     "text": [
      "tempo\n"
     ]
    },
    {
     "data": {
      "image/png": "[encoded data removed]",
      "text/plain": [
       "<Figure size 432x288 with 1 Axes>"
      ]
     },
     "metadata": {
      "needs_background": "light"
     },
     "output_type": "display_data"
    },
    {
     "name": "stdout",
     "output_type": "stream",
     "text": [
      "duration_ms\n"
     ]
    },
    {
     "data": {
      "image/png": "[encoded data removed]",
      "text/plain": [
       "<Figure size 432x288 with 1 Axes>"
      ]
     },
     "metadata": {
      "needs_background": "light"
     },
     "output_type": "display_data"
    },
    {
     "name": "stdout",
     "output_type": "stream",
     "text": [
      "time_signature\n"
     ]
    },
    {
     "data": {
      "image/png": "[encoded data removed]",
      "text/plain": [
       "<Figure size 432x288 with 1 Axes>"
      ]
     },
     "metadata": {
      "needs_background": "light"
     },
     "output_type": "display_data"
    },
    {
     "name": "stdout",
     "output_type": "stream",
     "text": [
      "chorus_hit\n"
     ]
    },
    {
     "data": {
      "image/png": "[encoded data removed]",
      "text/plain": [
       "<Figure size 432x288 with 1 Axes>"
      ]
     },
     "metadata": {
      "needs_background": "light"
     },
     "output_type": "display_data"
    },
    {
     "name": "stdout",
     "output_type": "stream",
     "text": [
      "sections\n"
     ]
    },
    {
     "data": {
      "image/png": "[encoded data removed]",
      "text/plain": [
       "<Figure size 432x288 with 1 Axes>"
      ]
     },
     "metadata": {
      "needs_background": "light"
     },
     "output_type": "display_data"
    }
   ],
   "source": [
    "for feature in feature_columns:\n",
    "    print(feature)\n",
    "    sns.boxplot(x=\"target\", y=feature, data=raw_df)\n",
    "    plt.show()"
   ]
  },
  {
   "cell_type": "markdown",
   "id": "e2903e02",
   "metadata": {},
   "source": [
    "We can clearly see that Danceability, Valence and Key have great impact on the target. "
   ]
  },
  {
   "cell_type": "code",
   "execution_count": 10,
   "id": "5ae2d972",
   "metadata": {},
   "outputs": [
    {
     "data": {
      "image/png": "[encoded data removed]",
      "text/plain": [
       "<Figure size 1440x1080 with 20 Axes>"
      ]
     },
     "metadata": {
      "needs_background": "light"
     },
     "output_type": "display_data"
    }
   ],
   "source": [
    "raw_df.hist(bins=50,figsize=(20,15))\n",
    "plt.show()"
   ]
  },
  {
   "cell_type": "code",
   "execution_count": null,
   "id": "2304b567",
   "metadata": {},
   "outputs": [],
   "source": []
  },
  {
   "cell_type": "markdown",
   "id": "40e0c766",
   "metadata": {},
   "source": [
    "## Random Forest Classification Model"
   ]
  },
  {
   "cell_type": "code",
   "execution_count": 33,
   "id": "a63a7365",
   "metadata": {},
   "outputs": [],
   "source": [
    "df = raw_df"
   ]
  },
  {
   "cell_type": "code",
   "execution_count": 196,
   "id": "45da3d31",
   "metadata": {},
   "outputs": [],
   "source": [
    "columns = ['danceability', 'energy', 'key', 'loudness','mode', 'speechiness', 'acousticness', \n",
    "                       'instrumentalness', 'liveness','valence', 'loudness','tempo', 'duration_ms',\n",
    "                   'time_signature', 'chorus_hit','sections', 'target']"
   ]
  },
  {
   "cell_type": "code",
   "execution_count": 38,
   "id": "d7c8456f",
   "metadata": {},
   "outputs": [],
   "source": [
    "df_filtered = df[columns]"
   ]
  },
  {
   "cell_type": "code",
   "execution_count": 42,
   "id": "5c6ade53",
   "metadata": {},
   "outputs": [],
   "source": [
    "df_full_train, df_test = train_test_split(df_filtered, test_size=0.2, random_state=11)\n",
    "df_train, df_val = train_test_split(df_full_train, test_size=0.25, random_state=11)"
   ]
  },
  {
   "cell_type": "code",
   "execution_count": 43,
   "id": "1f2f41b7",
   "metadata": {},
   "outputs": [],
   "source": [
    "df_train = df_train.reset_index(drop=True)\n",
    "df_val = df_val.reset_index(drop=True)\n",
    "df_test = df_test.reset_index(drop=True)"
   ]
  },
  {
   "cell_type": "code",
   "execution_count": 44,
   "id": "d440a76b",
   "metadata": {},
   "outputs": [],
   "source": [
    "y_train = df_train.target.values\n",
    "y_val = df_val.target.values\n",
    "y_test = df_test.target.values"
   ]
  },
  {
   "cell_type": "code",
   "execution_count": 45,
   "id": "51019f1c",
   "metadata": {},
   "outputs": [],
   "source": [
    "del df_train['target']\n",
    "del df_val['target']\n",
    "del df_test['target']"
   ]
  },
  {
   "cell_type": "code",
   "execution_count": null,
   "id": "40d9a43b",
   "metadata": {},
   "outputs": [],
   "source": []
  },
  {
   "cell_type": "markdown",
   "id": "b2d00721",
   "metadata": {},
   "source": [
    "## Tuning max depth parameter"
   ]
  },
  {
   "cell_type": "code",
   "execution_count": 46,
   "id": "ebc8ebf1",
   "metadata": {},
   "outputs": [],
   "source": [
    "scores = []\n",
    "\n",
    "for d in [5, 10, 15]:\n",
    "    for n in range(10, 201, 10):\n",
    "        model = RandomForestClassifier(n_estimators=n,\n",
    "                                    max_depth=d,\n",
    "                                    random_state=0)\n",
    "        model.fit(df_train, y_train)\n",
    "\n",
    "        y_pred = model.predict_proba(df_val)[:, 1]\n",
    "        auc = roc_auc_score(y_val, y_pred)\n",
    "\n",
    "        scores.append((d, n, auc))"
   ]
  },
  {
   "cell_type": "code",
   "execution_count": 47,
   "id": "7e95398e",
   "metadata": {},
   "outputs": [],
   "source": [
    "columns = ['max_depth', 'n_estimators', 'auc']\n",
    "df_scores = pd.DataFrame(scores, columns=columns)"
   ]
  },
  {
   "cell_type": "code",
   "execution_count": 48,
   "id": "48b9cbdd",
   "metadata": {},
   "outputs": [
    {
     "data": {
      "text/plain": [
       "<matplotlib.legend.Legend at 0x2b1a61e6790>"
      ]
     },
     "execution_count": 48,
     "metadata": {},
     "output_type": "execute_result"
    },
    {
     "data": {
      "image/png": "[encoded data removed]",
      "text/plain": [
       "<Figure size 432x288 with 1 Axes>"
      ]
     },
     "metadata": {
      "needs_background": "light"
     },
     "output_type": "display_data"
    }
   ],
   "source": [
    "for d in [5, 10, 15]:\n",
    "    df_subset = df_scores[df_scores.max_depth == d]\n",
    "    \n",
    "    plt.plot(df_subset.n_estimators, df_subset.auc,\n",
    "             label='max_depth=%d' % d)\n",
    "\n",
    "plt.legend()"
   ]
  },
  {
   "cell_type": "markdown",
   "id": "0baaed17",
   "metadata": {},
   "source": [
    "## Tuning min samples leaf parameter"
   ]
  },
  {
   "cell_type": "code",
   "execution_count": 49,
   "id": "0a206a2f",
   "metadata": {},
   "outputs": [],
   "source": [
    "max_depth = 10"
   ]
  },
  {
   "cell_type": "code",
   "execution_count": 50,
   "id": "feb7c837",
   "metadata": {},
   "outputs": [],
   "source": [
    "scores = []\n",
    "\n",
    "for s in [1, 3, 5, 10, 50]:\n",
    "    for n in range(10, 201, 10):\n",
    "        rf = RandomForestClassifier(n_estimators=n,\n",
    "                                    max_depth=max_depth,\n",
    "                                    min_samples_leaf=s,\n",
    "                                    random_state=1)\n",
    "        rf.fit(df_train, y_train)\n",
    "\n",
    "        y_pred = rf.predict_proba(df_val)[:, 1]\n",
    "        auc = roc_auc_score(y_val, y_pred)\n",
    "\n",
    "        scores.append((s, n, auc))"
   ]
  },
  {
   "cell_type": "code",
   "execution_count": 51,
   "id": "01d1ceb6",
   "metadata": {},
   "outputs": [],
   "source": [
    "columns = ['min_samples_leaf', 'n_estimators', 'auc']\n",
    "df_scores = pd.DataFrame(scores, columns=columns)"
   ]
  },
  {
   "cell_type": "code",
   "execution_count": 52,
   "id": "0b6ac01c",
   "metadata": {},
   "outputs": [
    {
     "data": {
      "text/plain": [
       "<matplotlib.legend.Legend at 0x2b1a7821430>"
      ]
     },
     "execution_count": 52,
     "metadata": {},
     "output_type": "execute_result"
    },
    {
     "data": {
      "image/png": "[encoded data removed]",
      "text/plain": [
       "<Figure size 432x288 with 1 Axes>"
      ]
     },
     "metadata": {
      "needs_background": "light"
     },
     "output_type": "display_data"
    }
   ],
   "source": [
    "colors = ['black', 'blue', 'orange', 'red', 'grey']\n",
    "values = [1, 3, 5, 10, 50]\n",
    "\n",
    "for s, col in zip(values, colors):\n",
    "    df_subset = df_scores[df_scores.min_samples_leaf == s]\n",
    "    \n",
    "    plt.plot(df_subset.n_estimators, df_subset.auc,\n",
    "             color=col,\n",
    "             label='min_samples_leaf=%d' % s)\n",
    "\n",
    "plt.legend()"
   ]
  },
  {
   "cell_type": "code",
   "execution_count": 55,
   "id": "44f8b72b",
   "metadata": {},
   "outputs": [],
   "source": [
    "min_samples_leaf = 5\n",
    "n_estimators = 200"
   ]
  },
  {
   "cell_type": "code",
   "execution_count": null,
   "id": "59c5f514",
   "metadata": {},
   "outputs": [],
   "source": []
  },
  {
   "cell_type": "code",
   "execution_count": 57,
   "id": "573c8efe",
   "metadata": {},
   "outputs": [],
   "source": [
    "model = RandomForestClassifier(n_estimators=n_estimators,\n",
    "                                    max_depth=max_depth,\n",
    "                                    min_samples_leaf=min_samples_leaf,\n",
    "                                    random_state=1)\n",
    "model.fit(df_train, y_train)\n",
    "y_pred = model.predict(df_test)"
   ]
  },
  {
   "cell_type": "code",
   "execution_count": 58,
   "id": "1332c755",
   "metadata": {},
   "outputs": [
    {
     "data": {
      "text/plain": [
       "array([[1354,  401],\n",
       "       [ 208, 1595]], dtype=int64)"
      ]
     },
     "metadata": {},
     "output_type": "display_data"
    }
   ],
   "source": [
    "confusion_matrix = metrics.confusion_matrix(y_test, y_pred)\n",
    "display(confusion_matrix)"
   ]
  },
  {
   "cell_type": "code",
   "execution_count": 59,
   "id": "0b609c41",
   "metadata": {},
   "outputs": [
    {
     "data": {
      "text/plain": [
       "array([0.15910916, 0.07136163, 0.00642518, 0.0590421 , 0.00250199,\n",
       "       0.02966802, 0.11058233, 0.32464444, 0.01511067, 0.04231788,\n",
       "       0.06428258, 0.0148049 , 0.07270437, 0.00181439, 0.01071395,\n",
       "       0.01491641])"
      ]
     },
     "execution_count": 59,
     "metadata": {},
     "output_type": "execute_result"
    }
   ],
   "source": [
    "model.feature_importances_"
   ]
  },
  {
   "cell_type": "code",
   "execution_count": 60,
   "id": "ebadcd12",
   "metadata": {},
   "outputs": [],
   "source": [
    "feature_importance = model.feature_importances_\n",
    "df_feature_names = pd.DataFrame(feature_columns)\n",
    "df_importance = pd.DataFrame(feature_importance)\n",
    "df_feat_importance = pd.concat([df_feature_names, df_importance], axis = 1)\n",
    "df_feat_importance.columns = ['feature', 'importance']\n",
    "df_feat_importance = df_feat_importance.set_index('feature')\n",
    "df_feat_importance = df_feat_importance.sort_values(by=['importance'], ascending = False)"
   ]
  },
  {
   "cell_type": "code",
   "execution_count": 61,
   "id": "de4e0d66",
   "metadata": {},
   "outputs": [
    {
     "data": {
      "text/html": [
       "<div>\n",
       "<style scoped>\n",
       "    .dataframe tbody tr th:only-of-type {\n",
       "        vertical-align: middle;\n",
       "    }\n",
       "\n",
       "    .dataframe tbody tr th {\n",
       "        vertical-align: top;\n",
       "    }\n",
       "\n",
       "    .dataframe thead th {\n",
       "        text-align: right;\n",
       "    }\n",
       "</style>\n",
       "<table border=\"1\" class=\"dataframe\">\n",
       "  <thead>\n",
       "    <tr style=\"text-align: right;\">\n",
       "      <th></th>\n",
       "      <th>importance</th>\n",
       "    </tr>\n",
       "    <tr>\n",
       "      <th>feature</th>\n",
       "      <th></th>\n",
       "    </tr>\n",
       "  </thead>\n",
       "  <tbody>\n",
       "    <tr>\n",
       "      <th>instrumentalness</th>\n",
       "      <td>0.324644</td>\n",
       "    </tr>\n",
       "    <tr>\n",
       "      <th>danceability</th>\n",
       "      <td>0.159109</td>\n",
       "    </tr>\n",
       "    <tr>\n",
       "      <th>acousticness</th>\n",
       "      <td>0.110582</td>\n",
       "    </tr>\n",
       "    <tr>\n",
       "      <th>duration_ms</th>\n",
       "      <td>0.072704</td>\n",
       "    </tr>\n",
       "    <tr>\n",
       "      <th>energy</th>\n",
       "      <td>0.071362</td>\n",
       "    </tr>\n",
       "    <tr>\n",
       "      <th>loudness</th>\n",
       "      <td>0.064283</td>\n",
       "    </tr>\n",
       "    <tr>\n",
       "      <th>loudness</th>\n",
       "      <td>0.059042</td>\n",
       "    </tr>\n",
       "    <tr>\n",
       "      <th>valence</th>\n",
       "      <td>0.042318</td>\n",
       "    </tr>\n",
       "    <tr>\n",
       "      <th>speechiness</th>\n",
       "      <td>0.029668</td>\n",
       "    </tr>\n",
       "    <tr>\n",
       "      <th>liveness</th>\n",
       "      <td>0.015111</td>\n",
       "    </tr>\n",
       "    <tr>\n",
       "      <th>sections</th>\n",
       "      <td>0.014916</td>\n",
       "    </tr>\n",
       "    <tr>\n",
       "      <th>tempo</th>\n",
       "      <td>0.014805</td>\n",
       "    </tr>\n",
       "    <tr>\n",
       "      <th>chorus_hit</th>\n",
       "      <td>0.010714</td>\n",
       "    </tr>\n",
       "    <tr>\n",
       "      <th>key</th>\n",
       "      <td>0.006425</td>\n",
       "    </tr>\n",
       "    <tr>\n",
       "      <th>mode</th>\n",
       "      <td>0.002502</td>\n",
       "    </tr>\n",
       "    <tr>\n",
       "      <th>time_signature</th>\n",
       "      <td>0.001814</td>\n",
       "    </tr>\n",
       "    <tr>\n",
       "      <th>[target]</th>\n",
       "      <td>NaN</td>\n",
       "    </tr>\n",
       "  </tbody>\n",
       "</table>\n",
       "</div>"
      ],
      "text/plain": [
       "                  importance\n",
       "feature                     \n",
       "instrumentalness    0.324644\n",
       "danceability        0.159109\n",
       "acousticness        0.110582\n",
       "duration_ms         0.072704\n",
       "energy              0.071362\n",
       "loudness            0.064283\n",
       "loudness            0.059042\n",
       "valence             0.042318\n",
       "speechiness         0.029668\n",
       "liveness            0.015111\n",
       "sections            0.014916\n",
       "tempo               0.014805\n",
       "chorus_hit          0.010714\n",
       "key                 0.006425\n",
       "mode                0.002502\n",
       "time_signature      0.001814\n",
       "[target]                 NaN"
      ]
     },
     "execution_count": 61,
     "metadata": {},
     "output_type": "execute_result"
    }
   ],
   "source": [
    "df_feat_importance"
   ]
  },
  {
   "cell_type": "code",
   "execution_count": 62,
   "id": "515caf85",
   "metadata": {},
   "outputs": [
    {
     "data": {
      "image/png": "[encoded data removed]",
      "text/plain": [
       "<Figure size 432x288 with 1 Axes>"
      ]
     },
     "metadata": {
      "needs_background": "light"
     },
     "output_type": "display_data"
    }
   ],
   "source": [
    "df_feat_importance.plot(kind='bar', color = \"blue\", title = \"Model Features Sorted by Importance\", legend = None)\n",
    "plt.ylabel('Feature importance')\n",
    "plt.xticks(fontsize=10, rotation=90)\n",
    "plt.show()"
   ]
  },
  {
   "cell_type": "code",
   "execution_count": 63,
   "id": "0c3a909e",
   "metadata": {},
   "outputs": [
    {
     "name": "stdout",
     "output_type": "stream",
     "text": [
      "Accuracy: 0.8288364249578415\n",
      "Precision: 0.7990981963927856\n",
      "Recall: 0.884636716583472\n"
     ]
    }
   ],
   "source": [
    "print(\"Accuracy:\",metrics.accuracy_score(y_test, y_pred))\n",
    "print(\"Precision:\",metrics.precision_score(y_test, y_pred))\n",
    "print(\"Recall:\",metrics.recall_score(y_test, y_pred))"
   ]
  },
  {
   "cell_type": "markdown",
   "id": "b82cf753",
   "metadata": {},
   "source": [
    "## Testing the Model"
   ]
  },
  {
   "cell_type": "code",
   "execution_count": 75,
   "id": "b541e54d",
   "metadata": {},
   "outputs": [
    {
     "data": {
      "text/plain": [
       "danceability             0.69000\n",
       "energy                   0.45200\n",
       "key                      0.00000\n",
       "loudness               -12.92700\n",
       "mode                     1.00000\n",
       "speechiness              0.04110\n",
       "acousticness             0.02930\n",
       "instrumentalness         0.26000\n",
       "liveness                 0.06720\n",
       "valence                  0.69500\n",
       "loudness               -12.92700\n",
       "tempo                  152.81400\n",
       "duration_ms         342160.00000\n",
       "time_signature           4.00000\n",
       "chorus_hit              19.67449\n",
       "sections                14.00000\n",
       "Name: 70, dtype: float64"
      ]
     },
     "execution_count": 75,
     "metadata": {},
     "output_type": "execute_result"
    }
   ],
   "source": [
    "new_song = df_test.loc[70]\n",
    "new_song"
   ]
  },
  {
   "cell_type": "code",
   "execution_count": 76,
   "id": "eb16898f",
   "metadata": {},
   "outputs": [
    {
     "data": {
      "text/plain": [
       "0.24402748723740686"
      ]
     },
     "execution_count": 76,
     "metadata": {},
     "output_type": "execute_result"
    }
   ],
   "source": [
    "model.predict_proba([new_song])[0,1]"
   ]
  },
  {
   "cell_type": "code",
   "execution_count": 74,
   "id": "8413ffee",
   "metadata": {},
   "outputs": [
    {
     "data": {
      "text/plain": [
       "danceability             0.69000\n",
       "energy                   0.45200\n",
       "key                      0.00000\n",
       "loudness               -12.92700\n",
       "mode                     1.00000\n",
       "speechiness              0.04110\n",
       "acousticness             0.02930\n",
       "instrumentalness         0.26000\n",
       "liveness                 0.06720\n",
       "valence                  0.69500\n",
       "loudness               -12.92700\n",
       "tempo                  152.81400\n",
       "duration_ms         342160.00000\n",
       "time_signature           4.00000\n",
       "chorus_hit              19.67449\n",
       "sections                14.00000\n",
       "Name: 70, dtype: float64"
      ]
     },
     "execution_count": 74,
     "metadata": {},
     "output_type": "execute_result"
    }
   ],
   "source": [
    "df_test.loc[70]"
   ]
  },
  {
   "cell_type": "code",
   "execution_count": 73,
   "id": "6510fa52",
   "metadata": {},
   "outputs": [
    {
     "data": {
      "text/plain": [
       "1"
      ]
     },
     "execution_count": 73,
     "metadata": {},
     "output_type": "execute_result"
    }
   ],
   "source": [
    "y_test[70]"
   ]
  },
  {
   "cell_type": "code",
   "execution_count": 78,
   "id": "9958c1f4",
   "metadata": {},
   "outputs": [
    {
     "name": "stdout",
     "output_type": "stream",
     "text": [
      "Collecting xgboost\n",
      "  Downloading xgboost-1.7.1-py3-none-win_amd64.whl (89.1 MB)\n",
      "Requirement already satisfied: numpy in c:\\users\\allak\\anaconda3\\lib\\site-packages (from xgboost) (1.20.3)\n",
      "Requirement already satisfied: scipy in c:\\users\\allak\\anaconda3\\lib\\site-packages (from xgboost) (1.7.1)\n",
      "Installing collected packages: xgboost\n",
      "Successfully installed xgboost-1.7.1\n"
     ]
    },
    {
     "name": "stderr",
     "output_type": "stream",
     "text": [
      "WARNING: You are using pip version 21.3.1; however, version 22.3.1 is available.\n",
      "You should consider upgrading via the 'C:\\Users\\allak\\anaconda3\\python.exe -m pip install --upgrade pip' command.\n"
     ]
    }
   ],
   "source": [
    "!pip install xgboost"
   ]
  },
  {
   "cell_type": "code",
   "execution_count": 79,
   "id": "df048340",
   "metadata": {},
   "outputs": [],
   "source": [
    "import xgboost as xgb"
   ]
  },
  {
   "cell_type": "code",
   "execution_count": 83,
   "id": "38931833",
   "metadata": {},
   "outputs": [
    {
     "data": {
      "text/plain": [
       "['danceability',\n",
       " 'energy',\n",
       " 'key',\n",
       " 'loudness',\n",
       " 'mode',\n",
       " 'speechiness',\n",
       " 'acousticness',\n",
       " 'instrumentalness',\n",
       " 'liveness',\n",
       " 'valence',\n",
       " 'loudness',\n",
       " 'tempo',\n",
       " 'duration_ms',\n",
       " 'time_signature',\n",
       " 'chorus_hit',\n",
       " 'sections']"
      ]
     },
     "execution_count": 83,
     "metadata": {},
     "output_type": "execute_result"
    }
   ],
   "source": [
    "feature_columns"
   ]
  },
  {
   "cell_type": "code",
   "execution_count": 94,
   "id": "b7c17904",
   "metadata": {},
   "outputs": [],
   "source": [
    "df_train = df_train.loc[:,~df_train.columns.duplicated()]\n",
    "df_test = df_test.loc[:,~df_test.columns.duplicated()]\n",
    "df_val = df_val.loc[:,~df_val.columns.duplicated()]"
   ]
  },
  {
   "cell_type": "code",
   "execution_count": 95,
   "id": "3918ae6d",
   "metadata": {},
   "outputs": [],
   "source": [
    "dtrain = xgb.DMatrix(df_train, label=y_train)\n",
    "dval = xgb.DMatrix(df_val, label=y_val)"
   ]
  },
  {
   "cell_type": "code",
   "execution_count": 96,
   "id": "a1030740",
   "metadata": {},
   "outputs": [],
   "source": [
    "xgb_params = {\n",
    "    'eta': 0.3, \n",
    "    'max_depth': 6,\n",
    "    'min_child_weight': 1,\n",
    "    \n",
    "    'objective': 'binary:logistic',\n",
    "    'nthread': 8,\n",
    "    \n",
    "    'seed': 1,\n",
    "    'verbosity': 1,\n",
    "}\n",
    "\n",
    "model = xgb.train(xgb_params, dtrain, num_boost_round=10)"
   ]
  },
  {
   "cell_type": "code",
   "execution_count": 97,
   "id": "d2899d1b",
   "metadata": {},
   "outputs": [],
   "source": [
    "y_pred = model.predict(dval)"
   ]
  },
  {
   "cell_type": "code",
   "execution_count": 98,
   "id": "c764ad9a",
   "metadata": {},
   "outputs": [
    {
     "data": {
      "text/plain": [
       "0.9031473049441668"
      ]
     },
     "execution_count": 98,
     "metadata": {},
     "output_type": "execute_result"
    }
   ],
   "source": [
    "roc_auc_score(y_val, y_pred)"
   ]
  },
  {
   "cell_type": "code",
   "execution_count": 99,
   "id": "6f78bc47",
   "metadata": {},
   "outputs": [],
   "source": [
    "watchlist = [(dtrain, 'train'), (dval, 'val')]"
   ]
  },
  {
   "cell_type": "code",
   "execution_count": 100,
   "id": "304455af",
   "metadata": {},
   "outputs": [],
   "source": [
    "\n",
    "\n",
    "%%capture output\n",
    "\n",
    "xgb_params = {\n",
    "    'eta': 0.3, \n",
    "    'max_depth': 6,\n",
    "    'min_child_weight': 1,\n",
    "    \n",
    "    'objective': 'binary:logistic',\n",
    "    'eval_metric': 'auc',\n",
    "\n",
    "    'nthread': 8,\n",
    "    'seed': 1,\n",
    "    'verbosity': 1,\n",
    "}\n",
    "\n",
    "model = xgb.train(xgb_params, dtrain, num_boost_round=200,\n",
    "                  verbose_eval=5,\n",
    "                  evals=watchlist)\n",
    "\n"
   ]
  },
  {
   "cell_type": "code",
   "execution_count": 101,
   "id": "c7aa65d4",
   "metadata": {},
   "outputs": [],
   "source": [
    "s = output.stdout"
   ]
  },
  {
   "cell_type": "code",
   "execution_count": 104,
   "id": "fb5b15b7",
   "metadata": {},
   "outputs": [
    {
     "name": "stdout",
     "output_type": "stream",
     "text": [
      "[0]\ttrain-auc:0.88375\tval-auc:0.87248\n",
      "[5]\ttrain-auc:0.92286\tval-auc:0.89724\n",
      "[10]\ttrain-auc:0.93538\tval-auc:0.90385\n",
      "[15]\ttrain-auc:0.94146\tval-auc:0.90615\n",
      "[20]\ttrain-auc:0.94980\tval-auc:0.90614\n",
      "[25]\ttrain-auc:0.95533\tval-auc:0.90633\n",
      "[30]\ttrain-auc:0.95967\tval-auc:0.90673\n",
      "[35]\ttrain-auc:0.96429\tval-auc:0.90672\n",
      "[40]\ttrain-auc:0.96890\tval-auc:0.90693\n",
      "[45]\ttrain-auc:0.97266\tval-auc:0.90668\n",
      "[50]\ttrain-auc:0.97614\tval-auc:0.90578\n",
      "[55]\ttrain-auc:0.97930\tval-auc:0.90409\n",
      "[60]\ttrain-auc:0.98141\tval-auc:0.9\n"
     ]
    }
   ],
   "source": [
    "print(s[:500])"
   ]
  },
  {
   "cell_type": "code",
   "execution_count": 105,
   "id": "709b7c74",
   "metadata": {},
   "outputs": [],
   "source": [
    "def parse_xgb_output(output):\n",
    "    results = []\n",
    "\n",
    "    for line in output.stdout.strip().split('\\n'):\n",
    "        it_line, train_line, val_line = line.split('\\t')\n",
    "\n",
    "        it = int(it_line.strip('[]'))\n",
    "        train = float(train_line.split(':')[1])\n",
    "        val = float(val_line.split(':')[1])\n",
    "\n",
    "        results.append((it, train, val))\n",
    "    \n",
    "    columns = ['num_iter', 'train_auc', 'val_auc']\n",
    "    df_results = pd.DataFrame(results, columns=columns)\n",
    "    return df_results"
   ]
  },
  {
   "cell_type": "code",
   "execution_count": 106,
   "id": "36fda135",
   "metadata": {},
   "outputs": [],
   "source": [
    "df_score = parse_xgb_output(output)"
   ]
  },
  {
   "cell_type": "code",
   "execution_count": 107,
   "id": "8fd5da6e",
   "metadata": {},
   "outputs": [
    {
     "data": {
      "text/plain": [
       "<matplotlib.legend.Legend at 0x2b1a7c41460>"
      ]
     },
     "execution_count": 107,
     "metadata": {},
     "output_type": "execute_result"
    },
    {
     "data": {
      "image/png": "[encoded data removed]",
      "text/plain": [
       "<Figure size 432x288 with 1 Axes>"
      ]
     },
     "metadata": {
      "needs_background": "light"
     },
     "output_type": "display_data"
    }
   ],
   "source": [
    "plt.plot(df_score.num_iter, df_score.train_auc, label='train')\n",
    "plt.plot(df_score.num_iter, df_score.val_auc, label='val')\n",
    "plt.legend()"
   ]
  },
  {
   "cell_type": "code",
   "execution_count": 108,
   "id": "8ad63e2f",
   "metadata": {},
   "outputs": [
    {
     "data": {
      "text/plain": [
       "<matplotlib.legend.Legend at 0x2b1a7c6b490>"
      ]
     },
     "execution_count": 108,
     "metadata": {},
     "output_type": "execute_result"
    },
    {
     "data": {
      "image/png": "[encoded data removed]",
      "text/plain": [
       "<Figure size 432x288 with 1 Axes>"
      ]
     },
     "metadata": {
      "needs_background": "light"
     },
     "output_type": "display_data"
    }
   ],
   "source": [
    "plt.plot(df_score.num_iter, df_score.val_auc, label='val')\n",
    "plt.legend()"
   ]
  },
  {
   "cell_type": "code",
   "execution_count": null,
   "id": "6554519c",
   "metadata": {},
   "outputs": [],
   "source": []
  },
  {
   "cell_type": "markdown",
   "id": "ff914a61",
   "metadata": {},
   "source": [
    "## XGBoost Parameter tuning"
   ]
  },
  {
   "cell_type": "code",
   "execution_count": 150,
   "id": "d324e29b",
   "metadata": {},
   "outputs": [],
   "source": [
    "etas = ['eta=1.0', 'eta=0.3', 'eta=0.1']\n",
    "scores = {}"
   ]
  },
  {
   "cell_type": "code",
   "execution_count": 155,
   "id": "9afb3e20",
   "metadata": {},
   "outputs": [],
   "source": [
    "%%capture output\n",
    "\n",
    "xgb_params = {\n",
    "    'eta': 0.1, \n",
    "    'max_depth': 6,\n",
    "    'min_child_weight': 1,\n",
    "    \n",
    "    'objective': 'binary:logistic',\n",
    "    'eval_metric': 'auc',\n",
    "\n",
    "    'nthread': 8,\n",
    "    'seed': 1,\n",
    "    'verbosity': 1,\n",
    "}\n",
    "\n",
    "model = xgb.train(xgb_params, dtrain, num_boost_round=200,\n",
    "                  verbose_eval=5,\n",
    "                  evals=watchlist)"
   ]
  },
  {
   "cell_type": "code",
   "execution_count": 156,
   "id": "234c3d60",
   "metadata": {},
   "outputs": [
    {
     "data": {
      "text/plain": [
       "'eta=0.1'"
      ]
     },
     "execution_count": 156,
     "metadata": {},
     "output_type": "execute_result"
    }
   ],
   "source": [
    "key = 'eta=%s' % (xgb_params['eta'])\n",
    "scores[key] = parse_xgb_output(output)\n",
    "key"
   ]
  },
  {
   "cell_type": "code",
   "execution_count": 157,
   "id": "aab3ba38",
   "metadata": {},
   "outputs": [
    {
     "data": {
      "text/plain": [
       "{'eta=1':     num_iter  train_auc  val_auc\n",
       " 0          0    0.88375  0.87248\n",
       " 1          5    0.93792  0.88722\n",
       " 2         10    0.95680  0.88819\n",
       " 3         15    0.97052  0.88262\n",
       " 4         20    0.98189  0.88175\n",
       " 5         25    0.98801  0.88017\n",
       " 6         30    0.99349  0.87926\n",
       " 7         35    0.99697  0.87783\n",
       " 8         40    0.99863  0.87997\n",
       " 9         45    0.99944  0.87826\n",
       " 10        50    0.99987  0.87922\n",
       " 11        55    0.99995  0.88071\n",
       " 12        60    0.99999  0.88224\n",
       " 13        65    1.00000  0.88253\n",
       " 14        70    1.00000  0.88359\n",
       " 15        75    1.00000  0.88343\n",
       " 16        80    1.00000  0.88324\n",
       " 17        85    1.00000  0.88338\n",
       " 18        90    1.00000  0.88365\n",
       " 19        95    1.00000  0.88504\n",
       " 20       100    1.00000  0.88511\n",
       " 21       105    1.00000  0.88582\n",
       " 22       110    1.00000  0.88661\n",
       " 23       115    1.00000  0.88661\n",
       " 24       120    1.00000  0.88680\n",
       " 25       125    1.00000  0.88694\n",
       " 26       130    1.00000  0.88665\n",
       " 27       135    1.00000  0.88696\n",
       " 28       140    1.00000  0.88713\n",
       " 29       145    1.00000  0.88724\n",
       " 30       150    1.00000  0.88776\n",
       " 31       155    1.00000  0.88792\n",
       " 32       160    1.00000  0.88813\n",
       " 33       165    1.00000  0.88825\n",
       " 34       170    1.00000  0.88843\n",
       " 35       175    1.00000  0.88874\n",
       " 36       180    1.00000  0.88862\n",
       " 37       185    1.00000  0.88887\n",
       " 38       190    1.00000  0.88899\n",
       " 39       195    1.00000  0.88886\n",
       " 40       199    1.00000  0.88868,\n",
       " 'eta=0.3':     num_iter  train_auc  val_auc\n",
       " 0          0    0.88375  0.87248\n",
       " 1          5    0.92286  0.89724\n",
       " 2         10    0.93538  0.90385\n",
       " 3         15    0.94146  0.90615\n",
       " 4         20    0.94980  0.90614\n",
       " 5         25    0.95533  0.90633\n",
       " 6         30    0.95967  0.90673\n",
       " 7         35    0.96429  0.90672\n",
       " 8         40    0.96890  0.90693\n",
       " 9         45    0.97266  0.90668\n",
       " 10        50    0.97614  0.90578\n",
       " 11        55    0.97930  0.90409\n",
       " 12        60    0.98141  0.90389\n",
       " 13        65    0.98440  0.90316\n",
       " 14        70    0.98630  0.90284\n",
       " 15        75    0.98831  0.90254\n",
       " 16        80    0.98926  0.90220\n",
       " 17        85    0.99055  0.90230\n",
       " 18        90    0.99274  0.90196\n",
       " 19        95    0.99466  0.90225\n",
       " 20       100    0.99535  0.90190\n",
       " 21       105    0.99636  0.90159\n",
       " 22       110    0.99722  0.90140\n",
       " 23       115    0.99763  0.90116\n",
       " 24       120    0.99830  0.90112\n",
       " 25       125    0.99863  0.90081\n",
       " 26       130    0.99883  0.90052\n",
       " 27       135    0.99907  0.90049\n",
       " 28       140    0.99937  0.90059\n",
       " 29       145    0.99953  0.90098\n",
       " 30       150    0.99967  0.90065\n",
       " 31       155    0.99977  0.90015\n",
       " 32       160    0.99984  0.90015\n",
       " 33       165    0.99987  0.90001\n",
       " 34       170    0.99990  0.90013\n",
       " 35       175    0.99992  0.90024\n",
       " 36       180    0.99992  0.90020\n",
       " 37       185    0.99993  0.89980\n",
       " 38       190    0.99995  0.89989\n",
       " 39       195    0.99997  0.89975\n",
       " 40       199    0.99998  0.89979,\n",
       " 'eta=0.1':     num_iter  train_auc  val_auc\n",
       " 0          0    0.88375  0.87248\n",
       " 1          5    0.90812  0.89045\n",
       " 2         10    0.91844  0.89474\n",
       " 3         15    0.92577  0.89807\n",
       " 4         20    0.93028  0.90047\n",
       " 5         25    0.93335  0.90199\n",
       " 6         30    0.93658  0.90363\n",
       " 7         35    0.93844  0.90456\n",
       " 8         40    0.94049  0.90533\n",
       " 9         45    0.94295  0.90570\n",
       " 10        50    0.94494  0.90614\n",
       " 11        55    0.94727  0.90626\n",
       " 12        60    0.94946  0.90658\n",
       " 13        65    0.95152  0.90716\n",
       " 14        70    0.95333  0.90726\n",
       " 15        75    0.95510  0.90725\n",
       " 16        80    0.95733  0.90724\n",
       " 17        85    0.95896  0.90761\n",
       " 18        90    0.96024  0.90787\n",
       " 19        95    0.96116  0.90789\n",
       " 20       100    0.96222  0.90776\n",
       " 21       105    0.96371  0.90764\n",
       " 22       110    0.96534  0.90770\n",
       " 23       115    0.96697  0.90775\n",
       " 24       120    0.96788  0.90770\n",
       " 25       125    0.96947  0.90750\n",
       " 26       130    0.97091  0.90761\n",
       " 27       135    0.97278  0.90779\n",
       " 28       140    0.97387  0.90761\n",
       " 29       145    0.97510  0.90768\n",
       " 30       150    0.97576  0.90724\n",
       " 31       155    0.97707  0.90717\n",
       " 32       160    0.97866  0.90676\n",
       " 33       165    0.97970  0.90657\n",
       " 34       170    0.98062  0.90647\n",
       " 35       175    0.98159  0.90648\n",
       " 36       180    0.98269  0.90609\n",
       " 37       185    0.98334  0.90579\n",
       " 38       190    0.98418  0.90607\n",
       " 39       195    0.98482  0.90574\n",
       " 40       199    0.98533  0.90570}"
      ]
     },
     "execution_count": 157,
     "metadata": {},
     "output_type": "execute_result"
    }
   ],
   "source": [
    "scores"
   ]
  },
  {
   "cell_type": "code",
   "execution_count": 158,
   "id": "de794891",
   "metadata": {},
   "outputs": [
    {
     "data": {
      "text/plain": [
       "<matplotlib.legend.Legend at 0x2b1aac28a90>"
      ]
     },
     "execution_count": 158,
     "metadata": {},
     "output_type": "execute_result"
    },
    {
     "data": {
      "image/png": "[encoded data removed]",
      "text/plain": [
       "<Figure size 432x288 with 1 Axes>"
      ]
     },
     "metadata": {
      "needs_background": "light"
     },
     "output_type": "display_data"
    }
   ],
   "source": [
    "for key, df_score in scores.items():\n",
    "    plt.plot(df_score.num_iter, df_score.val_auc, label=key)\n",
    "plt.legend()"
   ]
  },
  {
   "cell_type": "code",
   "execution_count": 159,
   "id": "a0598805",
   "metadata": {},
   "outputs": [],
   "source": [
    "scores = {}"
   ]
  },
  {
   "cell_type": "code",
   "execution_count": 178,
   "id": "ef77d85f",
   "metadata": {},
   "outputs": [],
   "source": [
    "%%capture output\n",
    "\n",
    "xgb_params = {\n",
    "    'eta': 0.1, \n",
    "    'max_depth': 20,\n",
    "    'min_child_weight': 1,\n",
    "    \n",
    "    'objective': 'binary:logistic',\n",
    "    'eval_metric': 'auc',\n",
    "\n",
    "    'nthread': 8,\n",
    "    'seed': 1,\n",
    "    'verbosity': 1,\n",
    "}\n",
    "\n",
    "model = xgb.train(xgb_params, dtrain, num_boost_round=200,\n",
    "                  verbose_eval=5,\n",
    "                  evals=watchlist)"
   ]
  },
  {
   "cell_type": "code",
   "execution_count": 179,
   "id": "f7c4752d",
   "metadata": {},
   "outputs": [
    {
     "data": {
      "text/plain": [
       "'max_depth=20'"
      ]
     },
     "execution_count": 179,
     "metadata": {},
     "output_type": "execute_result"
    }
   ],
   "source": [
    "key = 'max_depth=%s' % (xgb_params['max_depth'])\n",
    "scores[key] = parse_xgb_output(output)\n",
    "key"
   ]
  },
  {
   "cell_type": "code",
   "execution_count": 172,
   "id": "bcb13c19",
   "metadata": {},
   "outputs": [],
   "source": [
    "del scores['max_depth=3']"
   ]
  },
  {
   "cell_type": "code",
   "execution_count": 182,
   "id": "b8843a80",
   "metadata": {},
   "outputs": [
    {
     "data": {
      "text/plain": [
       "<matplotlib.legend.Legend at 0x2b1a54bca30>"
      ]
     },
     "execution_count": 182,
     "metadata": {},
     "output_type": "execute_result"
    },
    {
     "data": {
      "image/png": "[encoded data removed]",
      "text/plain": [
       "<Figure size 432x288 with 1 Axes>"
      ]
     },
     "metadata": {
      "needs_background": "light"
     },
     "output_type": "display_data"
    }
   ],
   "source": [
    "for max_depth, df_score in scores.items():\n",
    "    plt.plot(df_score.num_iter, df_score.val_auc, label=max_depth)\n",
    "\n",
    "plt.ylim(0.85, 0.95)    \n",
    "plt.legend()"
   ]
  },
  {
   "cell_type": "markdown",
   "id": "87ca494e",
   "metadata": {},
   "source": [
    "We can see that max_depth=6 is best depth."
   ]
  },
  {
   "cell_type": "code",
   "execution_count": 183,
   "id": "3890a602",
   "metadata": {},
   "outputs": [],
   "source": [
    "scores = {}"
   ]
  },
  {
   "cell_type": "code",
   "execution_count": 188,
   "id": "65135e91",
   "metadata": {},
   "outputs": [],
   "source": [
    "%%capture output\n",
    "\n",
    "xgb_params = {\n",
    "    'eta': 0.1, \n",
    "    'max_depth': 6,\n",
    "    'min_child_weight': 30,\n",
    "    \n",
    "    'objective': 'binary:logistic',\n",
    "    'eval_metric': 'auc',\n",
    "\n",
    "    'nthread': 8,\n",
    "    'seed': 1,\n",
    "    'verbosity': 1,\n",
    "}\n",
    "\n",
    "model = xgb.train(xgb_params, dtrain, num_boost_round=200,\n",
    "                  verbose_eval=5,\n",
    "                  evals=watchlist)"
   ]
  },
  {
   "cell_type": "code",
   "execution_count": 189,
   "id": "85f9d507",
   "metadata": {},
   "outputs": [
    {
     "data": {
      "text/plain": [
       "'min_child_weight=30'"
      ]
     },
     "execution_count": 189,
     "metadata": {},
     "output_type": "execute_result"
    }
   ],
   "source": [
    "key = 'min_child_weight=%s' % (xgb_params['min_child_weight'])\n",
    "scores[key] = parse_xgb_output(output)\n",
    "key"
   ]
  },
  {
   "cell_type": "code",
   "execution_count": 191,
   "id": "d084faf8",
   "metadata": {},
   "outputs": [
    {
     "data": {
      "text/plain": [
       "{'min_child_weight=1':     num_iter  train_auc  val_auc\n",
       " 0          0    0.88375  0.87248\n",
       " 1          5    0.90812  0.89045\n",
       " 2         10    0.91844  0.89474\n",
       " 3         15    0.92577  0.89807\n",
       " 4         20    0.93028  0.90047\n",
       " 5         25    0.93335  0.90199\n",
       " 6         30    0.93658  0.90363\n",
       " 7         35    0.93844  0.90456\n",
       " 8         40    0.94049  0.90533\n",
       " 9         45    0.94295  0.90570\n",
       " 10        50    0.94494  0.90614\n",
       " 11        55    0.94727  0.90626\n",
       " 12        60    0.94946  0.90658\n",
       " 13        65    0.95152  0.90716\n",
       " 14        70    0.95333  0.90726\n",
       " 15        75    0.95510  0.90725\n",
       " 16        80    0.95733  0.90724\n",
       " 17        85    0.95896  0.90761\n",
       " 18        90    0.96024  0.90787\n",
       " 19        95    0.96116  0.90789\n",
       " 20       100    0.96222  0.90776\n",
       " 21       105    0.96371  0.90764\n",
       " 22       110    0.96534  0.90770\n",
       " 23       115    0.96697  0.90775\n",
       " 24       120    0.96788  0.90770\n",
       " 25       125    0.96947  0.90750\n",
       " 26       130    0.97091  0.90761\n",
       " 27       135    0.97278  0.90779\n",
       " 28       140    0.97387  0.90761\n",
       " 29       145    0.97510  0.90768\n",
       " 30       150    0.97576  0.90724\n",
       " 31       155    0.97707  0.90717\n",
       " 32       160    0.97866  0.90676\n",
       " 33       165    0.97970  0.90657\n",
       " 34       170    0.98062  0.90647\n",
       " 35       175    0.98159  0.90648\n",
       " 36       180    0.98269  0.90609\n",
       " 37       185    0.98334  0.90579\n",
       " 38       190    0.98418  0.90607\n",
       " 39       195    0.98482  0.90574\n",
       " 40       199    0.98533  0.90570,\n",
       " 'min_child_weight=10':     num_iter  train_auc  val_auc\n",
       " 0          0    0.88289  0.87591\n",
       " 1          5    0.90554  0.89115\n",
       " 2         10    0.91445  0.89450\n",
       " 3         15    0.91968  0.89697\n",
       " 4         20    0.92457  0.89999\n",
       " 5         25    0.92816  0.90190\n",
       " 6         30    0.93055  0.90293\n",
       " 7         35    0.93204  0.90403\n",
       " 8         40    0.93404  0.90508\n",
       " 9         45    0.93542  0.90614\n",
       " 10        50    0.93686  0.90686\n",
       " 11        55    0.93882  0.90694\n",
       " 12        60    0.94053  0.90773\n",
       " 13        65    0.94268  0.90803\n",
       " 14        70    0.94465  0.90797\n",
       " 15        75    0.94630  0.90785\n",
       " 16        80    0.94740  0.90808\n",
       " 17        85    0.94873  0.90836\n",
       " 18        90    0.95070  0.90843\n",
       " 19        95    0.95165  0.90830\n",
       " 20       100    0.95351  0.90838\n",
       " 21       105    0.95443  0.90820\n",
       " 22       110    0.95538  0.90831\n",
       " 23       115    0.95700  0.90858\n",
       " 24       120    0.95825  0.90865\n",
       " 25       125    0.95931  0.90863\n",
       " 26       130    0.95999  0.90846\n",
       " 27       135    0.96177  0.90869\n",
       " 28       140    0.96254  0.90874\n",
       " 29       145    0.96394  0.90849\n",
       " 30       150    0.96462  0.90831\n",
       " 31       155    0.96569  0.90837\n",
       " 32       160    0.96650  0.90830\n",
       " 33       165    0.96788  0.90868\n",
       " 34       170    0.96918  0.90858\n",
       " 35       175    0.97000  0.90828\n",
       " 36       180    0.97092  0.90858\n",
       " 37       185    0.97134  0.90858\n",
       " 38       190    0.97199  0.90875\n",
       " 39       195    0.97285  0.90897\n",
       " 40       199    0.97345  0.90893,\n",
       " 'min_child_weight=30':     num_iter  train_auc  val_auc\n",
       " 0          0    0.87883  0.87128\n",
       " 1          5    0.89916  0.88701\n",
       " 2         10    0.90809  0.89138\n",
       " 3         15    0.91396  0.89478\n",
       " 4         20    0.91738  0.89758\n",
       " 5         25    0.92115  0.89970\n",
       " 6         30    0.92266  0.90089\n",
       " 7         35    0.92434  0.90151\n",
       " 8         40    0.92656  0.90273\n",
       " 9         45    0.92782  0.90343\n",
       " 10        50    0.92936  0.90398\n",
       " 11        55    0.93104  0.90492\n",
       " 12        60    0.93236  0.90497\n",
       " 13        65    0.93362  0.90499\n",
       " 14        70    0.93511  0.90515\n",
       " 15        75    0.93623  0.90533\n",
       " 16        80    0.93755  0.90543\n",
       " 17        85    0.93847  0.90583\n",
       " 18        90    0.93929  0.90558\n",
       " 19        95    0.94032  0.90557\n",
       " 20       100    0.94118  0.90562\n",
       " 21       105    0.94188  0.90569\n",
       " 22       110    0.94318  0.90569\n",
       " 23       115    0.94418  0.90583\n",
       " 24       120    0.94488  0.90601\n",
       " 25       125    0.94562  0.90619\n",
       " 26       130    0.94638  0.90648\n",
       " 27       135    0.94754  0.90649\n",
       " 28       140    0.94836  0.90615\n",
       " 29       145    0.94924  0.90604\n",
       " 30       150    0.95005  0.90580\n",
       " 31       155    0.95057  0.90574\n",
       " 32       160    0.95120  0.90571\n",
       " 33       165    0.95155  0.90561\n",
       " 34       170    0.95219  0.90575\n",
       " 35       175    0.95267  0.90569\n",
       " 36       180    0.95354  0.90559\n",
       " 37       185    0.95420  0.90541\n",
       " 38       190    0.95447  0.90537\n",
       " 39       195    0.95472  0.90540\n",
       " 40       199    0.95514  0.90513}"
      ]
     },
     "execution_count": 191,
     "metadata": {},
     "output_type": "execute_result"
    }
   ],
   "source": [
    "scores"
   ]
  },
  {
   "cell_type": "code",
   "execution_count": 192,
   "id": "2b30ef4f",
   "metadata": {},
   "outputs": [
    {
     "data": {
      "text/plain": [
       "<matplotlib.legend.Legend at 0x2b1a58d6dc0>"
      ]
     },
     "execution_count": 192,
     "metadata": {},
     "output_type": "execute_result"
    },
    {
     "data": {
      "image/png": "[encoded data removed]",
      "text/plain": [
       "<Figure size 432x288 with 1 Axes>"
      ]
     },
     "metadata": {
      "needs_background": "light"
     },
     "output_type": "display_data"
    }
   ],
   "source": [
    "for min_child_weight, df_score in scores.items():\n",
    "    plt.plot(df_score.num_iter, df_score.val_auc, label=min_child_weight)\n",
    "\n",
    "plt.legend()"
   ]
  },
  {
   "cell_type": "markdown",
   "id": "7d656cff",
   "metadata": {},
   "source": [
    "Seems like 10 is the best min_child_weight."
   ]
  },
  {
   "cell_type": "markdown",
   "id": "05d6bd66",
   "metadata": {},
   "source": [
    "## Best Model"
   ]
  },
  {
   "cell_type": "code",
   "execution_count": 205,
   "id": "4bf4dfcf",
   "metadata": {},
   "outputs": [],
   "source": [
    "columns = ['danceability', 'energy', 'key','mode', 'speechiness', 'acousticness', \n",
    "                       'instrumentalness', 'liveness','valence', 'loudness','tempo', 'duration_ms',\n",
    "                   'time_signature', 'chorus_hit','sections', 'target']"
   ]
  },
  {
   "cell_type": "code",
   "execution_count": 206,
   "id": "6a1a49bc",
   "metadata": {},
   "outputs": [],
   "source": [
    "df_full_train = df[columns].reset_index(drop=True)"
   ]
  },
  {
   "cell_type": "code",
   "execution_count": 207,
   "id": "18147162",
   "metadata": {},
   "outputs": [],
   "source": [
    "y_full_train = df.target.values"
   ]
  },
  {
   "cell_type": "code",
   "execution_count": 208,
   "id": "41fdc4e4",
   "metadata": {},
   "outputs": [],
   "source": [
    "del df_full_train['target']"
   ]
  },
  {
   "cell_type": "code",
   "execution_count": 210,
   "id": "3a1762c9",
   "metadata": {},
   "outputs": [],
   "source": [
    "df_train = df_train.loc[:,~df_train.columns.duplicated()]\n",
    "df_test = df_test.loc[:,~df_test.columns.duplicated()]\n",
    "df_val = df_val.loc[:,~df_val.columns.duplicated()]"
   ]
  },
  {
   "cell_type": "code",
   "execution_count": 212,
   "id": "66d68276",
   "metadata": {},
   "outputs": [],
   "source": [
    "dfulltrain = xgb.DMatrix(df_train, label=y_train)\n",
    "\n",
    "dtest = xgb.DMatrix(df_test)"
   ]
  },
  {
   "cell_type": "code",
   "execution_count": 214,
   "id": "034f4b68",
   "metadata": {},
   "outputs": [],
   "source": [
    "xgb_params = {\n",
    "    'eta': 0.1, \n",
    "    'max_depth': 6,\n",
    "    'min_child_weight': 10,\n",
    "\n",
    "    'objective': 'binary:logistic',\n",
    "    'eval_metric': 'auc',\n",
    "\n",
    "    'nthread': 8,\n",
    "    'seed': 1,\n",
    "    'verbosity': 1,\n",
    "}\n",
    "\n",
    "model = xgb.train(xgb_params, dfulltrain, num_boost_round=175)\n"
   ]
  },
  {
   "cell_type": "code",
   "execution_count": 215,
   "id": "8e39f1aa",
   "metadata": {},
   "outputs": [
    {
     "data": {
      "text/plain": [
       "0.9051024487519219"
      ]
     },
     "execution_count": 215,
     "metadata": {},
     "output_type": "execute_result"
    }
   ],
   "source": [
    "y_pred = model.predict(dtest)\n",
    "roc_auc_score(y_test, y_pred)"
   ]
  },
  {
   "cell_type": "code",
   "execution_count": 217,
   "id": "86c26de7",
   "metadata": {},
   "outputs": [
    {
     "name": "stdout",
     "output_type": "stream",
     "text": [
      "Collecting bentoml\n",
      "  Using cached bentoml-1.0.10-py3-none-any.whl (873 kB)\n",
      "Requirement already satisfied: opentelemetry-instrumentation==0.34b0 in c:\\users\\allak\\anaconda3\\lib\\site-packages (from bentoml) (0.34b0)\n",
      "Collecting circus!=0.17.2,>=0.17.0\n",
      "  Using cached circus-0.17.1-py3-none-any.whl (182 kB)\n",
      "Collecting pip-requirements-parser>=31.2.0\n",
      "  Using cached pip_requirements_parser-31.2.0-py3-none-any.whl (33 kB)\n",
      "Requirement already satisfied: requests in c:\\users\\allak\\anaconda3\\lib\\site-packages (from bentoml) (2.26.0)\n",
      "Requirement already satisfied: numpy in c:\\users\\allak\\anaconda3\\lib\\site-packages (from bentoml) (1.20.3)\n",
      "Collecting rich>=11.2.0\n",
      "  Using cached rich-12.6.0-py3-none-any.whl (237 kB)\n",
      "Collecting opentelemetry-sdk==1.13.0\n",
      "  Using cached opentelemetry_sdk-1.13.0-py3-none-any.whl (81 kB)\n",
      "Requirement already satisfied: opentelemetry-semantic-conventions==0.34b0 in c:\\users\\allak\\anaconda3\\lib\\site-packages (from bentoml) (0.34b0)\n",
      "Collecting Jinja2>=3.0.1\n",
      "  Using cached Jinja2-3.1.2-py3-none-any.whl (133 kB)\n",
      "Requirement already satisfied: psutil in c:\\users\\allak\\anaconda3\\lib\\site-packages (from bentoml) (5.8.0)\n",
      "Collecting deepmerge\n",
      "  Using cached deepmerge-1.1.0-py3-none-any.whl (8.5 kB)\n",
      "Collecting opentelemetry-instrumentation-aiohttp-client==0.34b0\n",
      "  Using cached opentelemetry_instrumentation_aiohttp_client-0.34b0-py3-none-any.whl (11 kB)\n",
      "Requirement already satisfied: packaging>=20.0 in c:\\users\\allak\\anaconda3\\lib\\site-packages (from bentoml) (21.0)\n",
      "Collecting fs\n",
      "  Using cached fs-2.4.16-py2.py3-none-any.whl (135 kB)\n",
      "Collecting python-multipart\n",
      "  Using cached python_multipart-0.0.5-py3-none-any.whl\n",
      "Requirement already satisfied: opentelemetry-util-http==0.34b0 in c:\\users\\allak\\anaconda3\\lib\\site-packages (from bentoml) (0.34b0)\n",
      "Requirement already satisfied: click>=7.0 in c:\\users\\allak\\anaconda3\\lib\\site-packages (from bentoml) (8.0.3)\n",
      "Collecting watchfiles>=0.15.0\n",
      "  Using cached watchfiles-0.18.1-cp37-abi3-win_amd64.whl (264 kB)\n",
      "Requirement already satisfied: python-dateutil in c:\\users\\allak\\anaconda3\\lib\\site-packages (from bentoml) (2.8.2)\n",
      "Collecting pynvml<12\n",
      "  Using cached pynvml-11.4.1-py3-none-any.whl (46 kB)\n",
      "Collecting aiohttp\n",
      "  Using cached aiohttp-3.8.3-cp39-cp39-win_amd64.whl (323 kB)\n",
      "Collecting simple-di>=0.1.4\n",
      "  Using cached simple_di-0.1.5-py3-none-any.whl (9.8 kB)\n",
      "Requirement already satisfied: PyYAML>=5.0 in c:\\users\\allak\\anaconda3\\lib\\site-packages (from bentoml) (6.0)\n",
      "Collecting python-json-logger\n",
      "  Using cached python_json_logger-2.0.4-py3-none-any.whl (7.8 kB)\n",
      "Collecting schema\n",
      "  Using cached schema-0.7.5-py2.py3-none-any.whl (17 kB)\n",
      "Collecting starlette\n",
      "  Using cached starlette-0.21.0-py3-none-any.whl (64 kB)\n",
      "Requirement already satisfied: cloudpickle in c:\\users\\allak\\anaconda3\\lib\\site-packages (from bentoml) (2.0.0)\n",
      "Requirement already satisfied: pathspec in c:\\users\\allak\\anaconda3\\lib\\site-packages (from bentoml) (0.7.0)\n",
      "Requirement already satisfied: attrs>=21.1.0 in c:\\users\\allak\\anaconda3\\lib\\site-packages (from bentoml) (21.2.0)\n",
      "Collecting cattrs>=22.1.0\n",
      "  Using cached cattrs-22.2.0-py3-none-any.whl (35 kB)\n",
      "Requirement already satisfied: prometheus-client>=0.10.0 in c:\\users\\allak\\anaconda3\\lib\\site-packages (from bentoml) (0.11.0)\n",
      "Collecting opentelemetry-instrumentation-asgi==0.34b0\n",
      "  Using cached opentelemetry_instrumentation_asgi-0.34b0-py3-none-any.whl (12 kB)\n",
      "Collecting pip-tools>=6.6.2\n",
      "  Using cached pip_tools-6.9.0-py3-none-any.whl (52 kB)\n",
      "Collecting uvicorn\n",
      "  Using cached uvicorn-0.19.0-py3-none-any.whl (56 kB)\n",
      "Requirement already satisfied: opentelemetry-api==1.13.0 in c:\\users\\allak\\anaconda3\\lib\\site-packages (from bentoml) (1.13.0)\n",
      "Requirement already satisfied: deprecated>=1.2.6 in c:\\users\\allak\\anaconda3\\lib\\site-packages (from opentelemetry-api==1.13.0->bentoml) (1.2.13)\n",
      "Requirement already satisfied: setuptools>=16.0 in c:\\users\\allak\\anaconda3\\lib\\site-packages (from opentelemetry-api==1.13.0->bentoml) (58.0.4)\n",
      "Requirement already satisfied: wrapt<2.0.0,>=1.0.0 in c:\\users\\allak\\anaconda3\\lib\\site-packages (from opentelemetry-instrumentation==0.34b0->bentoml) (1.12.1)\n",
      "Collecting asgiref~=3.0\n",
      "  Using cached asgiref-3.5.2-py3-none-any.whl (22 kB)\n",
      "Requirement already satisfied: typing-extensions>=3.7.4 in c:\\users\\allak\\anaconda3\\lib\\site-packages (from opentelemetry-sdk==1.13.0->bentoml) (3.10.0.2)\n",
      "Collecting exceptiongroup\n",
      "  Using cached exceptiongroup-1.0.1-py3-none-any.whl (12 kB)\n",
      "Requirement already satisfied: tornado>=5.0.2 in c:\\users\\allak\\anaconda3\\lib\\site-packages (from circus!=0.17.2,>=0.17.0->bentoml) (6.1)\n",
      "Requirement already satisfied: pyzmq>=17.0 in c:\\users\\allak\\anaconda3\\lib\\site-packages (from circus!=0.17.2,>=0.17.0->bentoml) (22.2.1)\n",
      "Requirement already satisfied: colorama in c:\\users\\allak\\anaconda3\\lib\\site-packages (from click>=7.0->bentoml) (0.4.4)\n",
      "Requirement already satisfied: MarkupSafe>=2.0 in c:\\users\\allak\\anaconda3\\lib\\site-packages (from Jinja2>=3.0.1->bentoml) (2.1.1)\n",
      "Requirement already satisfied: pyparsing>=2.0.2 in c:\\users\\allak\\anaconda3\\lib\\site-packages (from packaging>=20.0->bentoml) (3.0.4)\n",
      "Collecting build\n",
      "  Using cached build-0.9.0-py3-none-any.whl (17 kB)\n",
      "Requirement already satisfied: pip>=21.2 in c:\\users\\allak\\anaconda3\\lib\\site-packages (from pip-tools>=6.6.2->bentoml) (21.3.1)\n",
      "Requirement already satisfied: wheel in c:\\users\\allak\\anaconda3\\lib\\site-packages (from pip-tools>=6.6.2->bentoml) (0.37.0)\n",
      "Requirement already satisfied: pygments<3.0.0,>=2.6.0 in c:\\users\\allak\\anaconda3\\lib\\site-packages (from rich>=11.2.0->bentoml) (2.10.0)\n",
      "Collecting commonmark<0.10.0,>=0.9.0\n",
      "  Using cached commonmark-0.9.1-py2.py3-none-any.whl (51 kB)\n",
      "Collecting anyio>=3.0.0\n",
      "  Using cached anyio-3.6.2-py3-none-any.whl (80 kB)\n",
      "Collecting async-timeout<5.0,>=4.0.0a3\n",
      "  Using cached async_timeout-4.0.2-py3-none-any.whl (5.8 kB)\n",
      "Requirement already satisfied: yarl<2.0,>=1.0 in c:\\users\\allak\\anaconda3\\lib\\site-packages (from aiohttp->bentoml) (1.8.1)\n",
      "Requirement already satisfied: frozenlist>=1.1.1 in c:\\users\\allak\\anaconda3\\lib\\site-packages (from aiohttp->bentoml) (1.3.3)\n",
      "Requirement already satisfied: charset-normalizer<3.0,>=2.0 in c:\\users\\allak\\anaconda3\\lib\\site-packages (from aiohttp->bentoml) (2.0.4)\n",
      "Collecting aiosignal>=1.1.2\n",
      "  Using cached aiosignal-1.3.1-py3-none-any.whl (7.6 kB)\n",
      "Requirement already satisfied: multidict<7.0,>=4.5 in c:\\users\\allak\\anaconda3\\lib\\site-packages (from aiohttp->bentoml) (6.0.2)\n",
      "Requirement already satisfied: appdirs~=1.4.3 in c:\\users\\allak\\anaconda3\\lib\\site-packages (from fs->bentoml) (1.4.4)\n",
      "Requirement already satisfied: six~=1.10 in c:\\users\\allak\\anaconda3\\lib\\site-packages (from fs->bentoml) (1.16.0)\n",
      "Requirement already satisfied: certifi>=2017.4.17 in c:\\users\\allak\\anaconda3\\lib\\site-packages (from requests->bentoml) (2021.10.8)\n",
      "Requirement already satisfied: urllib3<1.27,>=1.21.1 in c:\\users\\allak\\anaconda3\\lib\\site-packages (from requests->bentoml) (1.26.7)\n",
      "Requirement already satisfied: idna<4,>=2.5 in c:\\users\\allak\\anaconda3\\lib\\site-packages (from requests->bentoml) (3.2)\n",
      "Requirement already satisfied: contextlib2>=0.5.5 in c:\\users\\allak\\anaconda3\\lib\\site-packages (from schema->bentoml) (0.6.0.post1)\n",
      "Collecting h11>=0.8\n",
      "  Using cached h11-0.14.0-py3-none-any.whl (58 kB)\n",
      "Requirement already satisfied: sniffio>=1.1 in c:\\users\\allak\\anaconda3\\lib\\site-packages (from anyio>=3.0.0->watchfiles>=0.15.0->bentoml) (1.2.0)\n",
      "Requirement already satisfied: pep517>=0.9.1 in c:\\users\\allak\\anaconda3\\lib\\site-packages (from build->pip-tools>=6.6.2->bentoml) (0.13.0)\n",
      "Requirement already satisfied: tomli>=1.0.0 in c:\\users\\allak\\anaconda3\\lib\\site-packages (from build->pip-tools>=6.6.2->bentoml) (2.0.1)\n",
      "Installing collected packages: h11, exceptiongroup, commonmark, build, async-timeout, asgiref, anyio, aiosignal, watchfiles, uvicorn, starlette, simple-di, schema, rich, python-multipart, python-json-logger, pynvml, pip-tools, pip-requirements-parser, opentelemetry-sdk, opentelemetry-instrumentation-asgi, opentelemetry-instrumentation-aiohttp-client, Jinja2, fs, deepmerge, circus, cattrs, aiohttp, bentoml\n",
      "  Attempting uninstall: anyio\n",
      "    Found existing installation: anyio 2.2.0\n",
      "    Uninstalling anyio-2.2.0:\n",
      "      Successfully uninstalled anyio-2.2.0\n",
      "  Attempting uninstall: Jinja2\n",
      "    Found existing installation: Jinja2 2.11.3\n",
      "    Uninstalling Jinja2-2.11.3:\n",
      "      Successfully uninstalled Jinja2-2.11.3\n",
      "Successfully installed Jinja2-3.1.2 aiohttp-3.8.3 aiosignal-1.3.1 anyio-3.6.2 asgiref-3.5.2 async-timeout-4.0.2 bentoml-1.0.10 build-0.9.0 cattrs-22.2.0 circus-0.17.1 commonmark-0.9.1 deepmerge-1.1.0 exceptiongroup-1.0.1 fs-2.4.16 h11-0.14.0 opentelemetry-instrumentation-aiohttp-client-0.34b0 opentelemetry-instrumentation-asgi-0.34b0 opentelemetry-sdk-1.13.0 pip-requirements-parser-31.2.0 pip-tools-6.9.0 pynvml-11.4.1 python-json-logger-2.0.4 python-multipart-0.0.5 rich-12.6.0 schema-0.7.5 simple-di-0.1.5 starlette-0.21.0 uvicorn-0.19.0 watchfiles-0.18.1\n"
     ]
    },
    {
     "name": "stderr",
     "output_type": "stream",
     "text": [
      "ERROR: pip's dependency resolver does not currently take into account all the packages that are installed. This behaviour is the source of the following dependency conflicts.\n",
      "anaconda-project 0.10.1 requires ruamel-yaml, which is not installed.\n",
      "cookiecutter 1.7.2 requires Jinja2<3.0.0, but you have jinja2 3.1.2 which is incompatible.\n",
      "cookiecutter 1.7.2 requires MarkupSafe<2.0.0, but you have markupsafe 2.1.1 which is incompatible.\n",
      "WARNING: You are using pip version 21.3.1; however, version 22.3.1 is available.\n",
      "You should consider upgrading via the 'C:\\Users\\allak\\anaconda3\\python.exe -m pip install --upgrade pip' command.\n"
     ]
    }
   ],
   "source": [
    "!pip install bentoml"
   ]
  },
  {
   "cell_type": "code",
   "execution_count": 218,
   "id": "d4056985",
   "metadata": {},
   "outputs": [],
   "source": [
    "import bentoml"
   ]
  },
  {
   "cell_type": "code",
   "execution_count": 219,
   "id": "7f4917f0",
   "metadata": {},
   "outputs": [
    {
     "data": {
      "text/plain": [
       "Model(tag=\"spotify_hit_model:a6leqrla4omzuacq\", path=\"C:\\Users\\allak\\bentoml\\models\\spotify_hit_model\\a6leqrla4omzuacq\\\")"
      ]
     },
     "execution_count": 219,
     "metadata": {},
     "output_type": "execute_result"
    }
   ],
   "source": [
    "bentoml.xgboost.save_model('spotify_hit_model',\n",
    "                            model)"
   ]
  },
  {
   "cell_type": "code",
   "execution_count": null,
   "id": "58c1e780",
   "metadata": {},
   "outputs": [],
   "source": []
  }
 ],
 "metadata": {
  "kernelspec": {
   "display_name": "Python 3 (ipykernel)",
   "language": "python",
   "name": "python3"
  },
  "language_info": {
   "codemirror_mode": {
    "name": "ipython",
    "version": 3
   },
   "file_extension": ".py",
   "mimetype": "text/x-python",
   "name": "python",
   "nbconvert_exporter": "python",
   "pygments_lexer": "ipython3",
   "version": "3.9.7"
  }
 },
 "nbformat": 4,
 "nbformat_minor": 5
}
